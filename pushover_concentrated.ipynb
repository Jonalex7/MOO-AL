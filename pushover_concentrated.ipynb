{
 "cells": [
  {
   "cell_type": "code",
   "execution_count": 1,
   "metadata": {},
   "outputs": [],
   "source": [
    "import openseespy.opensees as ops\n",
    "import numpy as np\n",
    "import matplotlib.pyplot as plt\n",
    "import math\n",
    "\n",
    "def rotSpring2DModIKModel(eleID, nodeR, nodeC, K, asPos, asNeg, MyPos, MyNeg, LS, LK, LA, LD, cS, cK, cA, cD, th_pP, th_pN, th_pcP, th_pcN, ResP, ResN, th_uP, th_uN, DP, DN):\n",
    "    \"\"\"\n",
    "    Creates a uniaxial material spring with deterioration using the Bilin material model\n",
    "    and assigns it to a zero-length element.\n",
    "    \"\"\"\n",
    "\n",
    "    # Create the Bilin uniaxial material with the given parameters\n",
    "    ops.uniaxialMaterial('Bilin', eleID, K, asPos, asNeg, MyPos, MyNeg, LS, LK, LA, LD, cS, cK, cA, cD, th_pP, th_pN, th_pcP, th_pcN, ResP, ResN, th_uP, th_uN, DP, DN)\n",
    "\n",
    "    # Create the zero-length element with the Bilin material in rotational direction (DOF 6)\n",
    "    ops.element('zeroLength', eleID, nodeR, nodeC, '-mat', eleID, '-dir', 6)\n",
    "\n",
    "    # Constrain the translational DOF with a multi-point constraint\n",
    "    ops.equalDOF(nodeR, nodeC, 1, 2)\n",
    "\n",
    "def rotLeaningCol(eleID, nodeR, nodeC):\n",
    "    \"\"\"\n",
    "    Creates a zero-stiffness elastic rotational spring for the leaning column\n",
    "    and constrains the translational DOFs of the spring.\n",
    "    \n",
    "    Parameters:\n",
    "    eleID : int\n",
    "        Unique element ID for this zero length rotational spring.\n",
    "    nodeR : int\n",
    "        Node ID which will be retained by the multi-point constraint.\n",
    "    nodeC : int\n",
    "        Node ID which will be constrained by the multi-point constraint.\n",
    "    \"\"\"\n",
    "    \n",
    "    # Spring Stiffness\n",
    "    K = 1e-9  # k/in\n",
    "\n",
    "    # Create the material and zero length element (spring)\n",
    "    ops.uniaxialMaterial('Elastic', eleID, K)\n",
    "    ops.element('zeroLength', eleID, nodeR, nodeC, '-mat', eleID, '-dir', 6)\n",
    "\n",
    "    # Constrain the translational DOFs with a multi-point constraint\n",
    "    ops.equalDOF(nodeR, nodeC, 1, 2)\n"
   ]
  },
  {
   "cell_type": "code",
   "execution_count": 2,
   "metadata": {},
   "outputs": [],
   "source": [
    "\n",
    "\n",
    "# Units: kips, inches, seconds\n",
    "\n",
    "# --------------------------------------------------------------------------------------------------\n",
    "#          Set Up & Source Definition\t\t\t\t\t\t\t\t\t  \n",
    "# --------------------------------------------------------------------------------------------------\n",
    "\n",
    "ops.wipe()\n",
    "ops.model('Basic', '-ndm', 2, '-ndf', 3)\n",
    "\n",
    "# Note: No equivalent of sourcing TCL scripts, these need to be defined in Python.\n",
    "\n",
    "# --------------------------------------------------------------------------------------------------\n",
    "#          Define Building Geometry, Nodes, and Constraints\t\t\t\t\t\t\t\t\t\t\t  \n",
    "# --------------------------------------------------------------------------------------------------\n",
    "\n",
    "NStories = 2                # number of stories\n",
    "NBays = 1                   # number of frame bays (excludes bay for P\n",
    "WBay = 30.0 * 12.0          # bay width in inches\n",
    "HStory1 = 15.0 * 12.0       # 1st story height in inches\n",
    "HStoryTyp = 12.0 * 12.0     # story height of other stories in inches\n",
    "HBuilding = HStory1 + (NStories - 1) * HStoryTyp   # height of building\n",
    "\n",
    "# calculate locations of beam/column joints:\n",
    "Pier1 = 0.0   # leftmost column line\n",
    "Pier2 = Pier1 + WBay\n",
    "Pier3 = Pier2 + WBay  # P-delta column line\t\n",
    "Floor1 = 0.0\n",
    "Floor2 = Floor1 + HStory1\n",
    "Floor3 = Floor2 + HStoryTyp\n",
    "\n",
    "# calculate joint offset distance for beam plastic hinges\n",
    "phlat23 = 0.0   # lateral dist from beam-col joint to loc of hinge on Floor 2\n",
    "\n",
    "# calculate nodal masses -- lump floor masses at frame nodes\n",
    "g = 386.2    # acceleration due to gravity\n",
    "Floor2Weight = 535.0   # weight of Floor 2 in kips\n",
    "Floor3Weight = 525.0   # weight of Floor 3 in kips\n",
    "WBuilding = Floor2Weight + Floor3Weight   # total building weight\n",
    "NodalMass2 = (Floor2Weight / g) / 2.0     # mass at each node on Floor 2\n",
    "NodalMass3 = (Floor3Weight / g) / 2.0     # mass at each node on Floor 3\n",
    "Negligible = 1e-9    # a very smnumber to avoid problems with zero"
   ]
  },
  {
   "cell_type": "code",
   "execution_count": 3,
   "metadata": {},
   "outputs": [
    {
     "data": {
      "text/plain": [
       "(0.0, 324.0)"
      ]
     },
     "execution_count": 3,
     "metadata": {},
     "output_type": "execute_result"
    }
   ],
   "source": [
    "Pier1, Floor3"
   ]
  },
  {
   "cell_type": "markdown",
   "metadata": {},
   "source": [
    "Define Building Geometry, Nodes, and Constraints\t"
   ]
  },
  {
   "cell_type": "code",
   "execution_count": 4,
   "metadata": {},
   "outputs": [],
   "source": [
    "# Define nodes\n",
    "# nodeID convention:  \"xy\" where x = Pier # and y = Floor # \n",
    "ops.node(11, Pier1, Floor1)\n",
    "ops.node(21, Pier2, Floor1)\n",
    "ops.node(31, Pier3, Floor1)\n",
    "ops.node(12, Pier1, Floor2, '-mass', NodalMass2, Negligible, Negligible)\n",
    "ops.node(22, Pier2, Floor2, '-mass', NodalMass2, Negligible, Negligible)\n",
    "ops.node(32, Pier3, Floor2)\n",
    "ops.node(13, Pier1, Floor3, '-mass', NodalMass3, Negligible, Negligible)\n",
    "ops.node(23, Pier2, Floor3, '-mass', NodalMass3, Negligible, Negligible)\n",
    "ops.node(33, Pier3, Floor3)\n",
    "\n",
    "# Extra nodes for plastic hinge rotational springs\n",
    "# nodeID convention:  \"xya\" where x = Pier #, y = Floor #, a = location relative to beam-column joint\n",
    "# \"a\" convention: 2 = left; 3 = right;\n",
    "# \"a\" convention: 6 = below; 7 = above; \n",
    "# column hinges at bottom of Story 1 (base)\n",
    "ops.node(117, Pier1, Floor1)\n",
    "ops.node(217, Pier2, Floor1)\n",
    "# column hinges at top of Story 1\n",
    "ops.node(126, Pier1, Floor2)\n",
    "ops.node(226, Pier2, Floor2)\n",
    "ops.node(326, Pier3, Floor2)  # zero-stiffness spring will be used on p-delta column\n",
    "# column hinges at bottom of Story 2\n",
    "ops.node(127, Pier1, Floor2)\n",
    "ops.node(227, Pier2, Floor2)\n",
    "ops.node(327, Pier3, Floor2)  # zero-stiffness spring will be used on p-delta column\n",
    "# column hinges at top of Story 2\n",
    "ops.node(136, Pier1, Floor3)\n",
    "ops.node(236, Pier2, Floor3)\n",
    "ops.node(336, Pier3, Floor3)  # zero-stiffness spring will be used on p-delta column\n",
    "\n",
    "# beam hinges at Floor 2\n",
    "ops.node(122, Pier1 + phlat23, Floor2)\n",
    "ops.node(223, Pier2 - phlat23, Floor2)\n",
    "ops.node(132, Pier1 + phlat23, Floor3)\n",
    "ops.node(233, Pier2 - phlat23, Floor3)\n",
    "\n",
    "# Constrain beam-column joints in a floor to have the same lateral displacement\n",
    "# command: equalDOF $MasterNodeID $SlaveNodeID $dof1 $dof2.\n",
    "dof1 = 1   # constrain movement in dof 1 (x-direction)\n",
    "ops.equalDOF(12, 22, dof1)  # Floor 2:  Pier 1 to Pier 2\n",
    "ops.equalDOF(12, 32, dof1)  # Floor 2:  Pier 1 to Pier 3\n",
    "ops.equalDOF(13, 23, dof1)  # Floor 3:  Pier 1 to Pier 2\n",
    "ops.equalDOF(13, 33, dof1)  # Floor 3:  Pier 1 to Pier 3\n",
    "\n",
    "# Assign boundary conditions\n",
    "# command:  fix nodeID dxFixity dyFixity rzFixity\n",
    "# fixity values: 1 = constrained; 0 = unconstrained\n",
    "# fix the base of the building; pin P-delta column at base\n",
    "ops.fix(11, 1, 1, 1)\n",
    "ops.fix(21, 1, 1, 1)\n",
    "ops.fix(31, 1, 1, 0)  # P-delta column is pinned"
   ]
  },
  {
   "cell_type": "markdown",
   "metadata": {},
   "source": [
    "Define Section Properties and Elements\t"
   ]
  },
  {
   "cell_type": "code",
   "execution_count": 5,
   "metadata": {},
   "outputs": [],
   "source": [
    "Es = 29000.0  # steel Young's modulus\n",
    "\n",
    "# define column section W24x131 for Story 1 & 2\n",
    "Acol_12 = 38.5     # cross-sectional area\n",
    "Icol_12 = 4020.0   # moment of inertia\n",
    "Mycol_12 = 20350.0  # yield moment\n",
    "\n",
    "# determine stiffness modifications to equate the stiffness of the spring-elastic element-spring subassembly to the stiffness of the actual frame member\n",
    "Abeam_23 = 30.0      # cross-sectional area (full section properties)\n",
    "Ibeam_23 = 3620.0    # moment of inertia  (full section properties)\n",
    "Mybeam_23 = 10938.0  # yield moment at plastic hinge location (i.e., My of RBS section, if used)\n",
    "\t# note: In this example the hinges form right at the beam-column joint, so using an RBS doesn't make sense; \n",
    "\t#\t\thowever, it is done here simply for illustrative purposes.\n",
    "\n",
    "# determine stiffness modifications to equate the stiffness of the spring-elastic element-spring subassembly to the stiffness of the actual frame member\n",
    "\t# Reference:  Ibarra, L. F., and Krawinkler, H. (2005). \"Global collapse of frame structures under seismic excitations,\" Technical Report 152,\n",
    "\t#             The John A. Blume Earthquake Engineering Research Center, Department of Civil Engineering, Stanford University, Stanford, CA.\n",
    "\t# calculate modified section properties to account for spring stiffness being in series with the elastic element stiffness  \n",
    "n = 10.0    # stiffness multiplier for rotational spring\n",
    "\n",
    "# calculate modified moment of inertia for elastic elements\n",
    "Icol_12mod = Icol_12 * (n + 1.0) / n     # modified moment of inertia for columns in Story 1 & \n",
    "Ibeam_23mod = Ibeam_23 * (n + 1.0) / n     # modified moment of inertia for beams in Floor 2 & 3\n",
    "\n",
    "Ks_col_1 = n * 6.0 * Es * Icol_12mod / HStory1      # rotational stiffness of Story 1 column springs\n",
    "Ks_col_2 = n * 6.0 * Es * Icol_12mod / HStoryTyp    # rotational stiffness of Story 2 column springs\n",
    "Ks_beam_23 = n * 6.0 * Es * Ibeam_23mod / WBay      # rotational stiffness of Floor 2 & 3 beam springs\n",
    "\n",
    "# set up geometric transformations of element\n",
    "PDeltaTransf = 1\n",
    "ops.geomTransf('PDelta', PDeltaTransf)\n",
    "\n",
    "# Define elements\n",
    "ops.element('elasticBeamColumn', 111, 117, 126, Acol_12, Es, Icol_12mod, PDeltaTransf)\n",
    "ops.element('elasticBeamColumn', 121, 217, 226, Acol_12, Es, Icol_12mod, PDeltaTransf)\n",
    "ops.element('elasticBeamColumn', 112, 127, 136, Acol_12, Es, Icol_12mod, PDeltaTransf)\n",
    "ops.element('elasticBeamColumn', 122, 227, 236, Acol_12, Es, Icol_12mod, PDeltaTransf)\n",
    "\n",
    "ops.element('elasticBeamColumn', 212, 122, 223, Abeam_23, Es, Ibeam_23mod, PDeltaTransf)\n",
    "ops.element('elasticBeamColumn', 222, 132, 233, Abeam_23, Es, Ibeam_23mod, PDeltaTransf)\n",
    "\n",
    "TrussMatID = 600 \t\t# define a material ID  \n",
    "Arigid = 1000.0\t\t\t# define area of truss section (make much larger than A of frame elements)\n",
    "Irigid = 100000.0\t\t# moment of inertia for p-delta columns  (make much larger than I of frame elements)\n",
    "ops.uniaxialMaterial('Elastic', TrussMatID, Es)   # define truss material\n",
    "\n",
    "# rigid links\n",
    "# command: element truss $eleID $iNode $jNode $A $materialID\n",
    "ops.element('truss', 622, 22, 32, Arigid, TrussMatID)\t# Floor 2\n",
    "ops.element('truss', 623, 23, 33, Arigid, TrussMatID)\t# Floor 3\n",
    "\n",
    "# p-delta columns\n",
    "# eleID convention:  7xy, 7 = p-delta columns, x = Pier #, y = Story #\n",
    "ops.element('elasticBeamColumn', 731, 31, 326, Arigid, Es, Irigid, PDeltaTransf)\t# Story 1\n",
    "ops.element('elasticBeamColumn', 732, 327, 336, Arigid, Es, Irigid, PDeltaTransf)\t# Story 2"
   ]
  },
  {
   "cell_type": "markdown",
   "metadata": {},
   "source": [
    "Define Rotational Springs for Plastic Hinges"
   ]
  },
  {
   "cell_type": "code",
   "execution_count": 6,
   "metadata": {},
   "outputs": [
    {
     "name": "stderr",
     "output_type": "stream",
     "text": [
      "Modified Ibarra-Medina-Krawinkler Model with Bilinear Hysteretic Response\n"
     ]
    }
   ],
   "source": [
    "# define rotational spring properties and create spring elements using \"rotSpring2DModIKModel\" procedure\n",
    "\t# rotSpring2DModIKModel creates a uniaxial material spring with a bilinear response based on Modified Ibarra Krawinkler Deterioration Model\n",
    "\t# references provided in rotSpring2DModIKModel.tcl\n",
    "\t# input values for Story 1 column springs\n",
    "McMy = 1.05         # ratio of capping moment to yield moment, Mc / My\n",
    "LS = 1000.0         # basic strength deterioration (a very large # = no cyclic deterioration)\n",
    "LK = 1000.0         # unloading stiffness deterioration (a very large # = no cyclic deterioration)\n",
    "LA = 1000.0         # accelerated reloading stiffness deterioration (a very large # = no cyclic deterioration)\n",
    "LD = 1000.0         # post-capping strength deterioration (a very large # = no deterioration)\n",
    "cS = 1.0            # exponent for basic strength deterioration (c = 1.0 for no deterioration)\n",
    "cK = 1.0            # exponent for unloading stiffness deterioration (c = 1.0 for no deterioration)\n",
    "cA = 1.0            # exponent for accelerated reloading stiffness deterioration (c = 1.0 for no deterioration)\n",
    "cD = 1.0            # exponent for post-capping strength deterioration (c = 1.0 for no deterioration)\n",
    "th_pP = 0.025       # plastic rot capacity for pos loading\n",
    "th_pN = 0.025       # plastic rot capacity for neg loading\n",
    "th_pcP = 0.3        # post-capping rot capacity for pos loading\n",
    "th_pcN = 0.3        # post-capping rot capacity for neg loading\n",
    "ResP = 0.4          # residual strength ratio for pos loading\n",
    "ResN = 0.4          # residual strength ratio for neg loading\n",
    "th_uP = 0.4         # ultimate rot capacity for pos loading\n",
    "th_uN = 0.4         # ultimate rot capacity for neg loading\n",
    "DP = 1.0            # rate of cyclic deterioration for pos loading\n",
    "DN = 1.0            # rate of cyclic deterioration for neg loading\n",
    "\n",
    "# Define column springs using the rotSpring2DModIKModel function\n",
    "a_mem = (n + 1.0) * (Mycol_12 * (McMy - 1.0)) / (Ks_col_1 * th_pP)   # strain hardening ratio of spring\n",
    "b = a_mem / (1.0 + n * (1.0 - a_mem))    # modified strain hardening ratio of spring (Ibarra & Krawinkler 2005, note: Eqn B.5 is incorrect)\n",
    "\n",
    "# Define column springs\n",
    "\t# Spring ID: \"3xya\", where 3 = col spring, x = Pier #, y = Story #, a = location in story\n",
    "\t# \"a\" convention: 1 = bottom of story, 2 = top of story\n",
    "\t# command: rotSpring2DModIKModel\tid    ndR  ndC     K   asPos  asNeg  MyPos      MyNeg      LS    LK    LA    LD   cS   cK   cA   cD  th_p+   th_p-   th_pc+   th_pc-  Res+   Res-   th_u+   th_u-    D+     D-\n",
    "\t# col springs @ bottom of Story 1 (at base)\n",
    "rotSpring2DModIKModel(3111, 11, 117, Ks_col_1, b, b, Mycol_12, -Mycol_12, LS, LK, LA, LD, cS, cK, cA, cD, th_pP, th_pN, th_pcP, th_pcN, ResP, ResN, th_uP, th_uN, DP, DN)\n",
    "rotSpring2DModIKModel(3211, 21, 217, Ks_col_1, b, b, Mycol_12, -Mycol_12, LS, LK, LA, LD, cS, cK, cA, cD, th_pP, th_pN, th_pcP, th_pcN, ResP, ResN, th_uP, th_uN, DP, DN)\n",
    "rotSpring2DModIKModel(3112, 12, 126, Ks_col_1, b, b, Mycol_12, -Mycol_12, LS, LK, LA, LD, cS, cK, cA, cD, th_pP, th_pN, th_pcP, th_pcN, ResP, ResN, th_uP, th_uN, DP, DN)\n",
    "rotSpring2DModIKModel(3212, 22, 226, Ks_col_1, b, b, Mycol_12, -Mycol_12, LS, LK, LA, LD, cS, cK, cA, cD, th_pP, th_pN, th_pcP, th_pcN, ResP, ResN, th_uP, th_uN, DP, DN)\n",
    "\n",
    "# recompute strain hardening since Story 2 is not the same height as Story 1\n",
    "a_mem = (n + 1.0) * (Mycol_12 * (McMy - 1.0)) / (Ks_col_2 * th_pP)  # strain hardening ratio of spring\n",
    "b = a_mem / (1.0 + n * (1.0 - a_mem))  # modified strain hardening ratio of spring (Ibarra & Krawinkler 2005, note: there is mistake in Eqn B.5)\n",
    "\n",
    "rotSpring2DModIKModel(3121, 12, 127, Ks_col_2, b, b, Mycol_12, -Mycol_12, LS, LK, LA, LD, cS, cK, cA, cD, th_pP, th_pN, th_pcP, th_pcN, ResP, ResN, th_uP, th_uN, DP, DN)\n",
    "rotSpring2DModIKModel(3221, 22, 227, Ks_col_2, b, b, Mycol_12, -Mycol_12, LS, LK, LA, LD, cS, cK, cA, cD, th_pP, th_pN, th_pcP, th_pcN, ResP, ResN, th_uP, th_uN, DP, DN)\n",
    "rotSpring2DModIKModel(3122, 13, 136, Ks_col_2, b, b, Mycol_12, -Mycol_12, LS, LK, LA, LD, cS, cK, cA, cD, th_pP, th_pN, th_pcP, th_pcN, ResP, ResN, th_uP, th_uN, DP, DN)\n",
    "rotSpring2DModIKModel(3222, 23, 236, Ks_col_2, b, b, Mycol_12, -Mycol_12, LS, LK, LA, LD, cS, cK, cA, cD, th_pP, th_pN, th_pcP, th_pcN, ResP, ResN, th_uP, th_uN, DP, DN)"
   ]
  },
  {
   "cell_type": "code",
   "execution_count": 7,
   "metadata": {},
   "outputs": [],
   "source": [
    "# Define beam springs\n",
    "    # Spring ID: \"4xya\", where 4 = beam spring, x = Bay #, y = Floor #, a = location in bay\n",
    "    # \"a\" convention: 1 = left end, 2 = right end\n",
    "    # redefine the rotations since they are not the same\n",
    "th_pP = 0.02\n",
    "th_pN = 0.02\n",
    "th_pcP = 0.16\n",
    "th_pcN = 0.16\n",
    "a_mem = (n + 1.0) * (Mybeam_23 * (McMy - 1.0)) / (Ks_beam_23 * th_pP) # strain hardening ratio of spring\n",
    "b = a_mem / (1.0 + n * (1.0 - a_mem))  # modified strain hardening ratio of spring (Ibarra & Krawinkler 2005, note: there is mistake in Eqn B.5)\n",
    "\n",
    "rotSpring2DModIKModel(4121, 12, 122, Ks_beam_23, b, b, Mybeam_23, -Mybeam_23, LS, LK, LA, LD, cS, cK, cA, cD, th_pP, th_pN, th_pcP, th_pcN, ResP, ResN, th_uP, th_uN, DP, DN)\n",
    "rotSpring2DModIKModel(4122, 22, 223, Ks_beam_23, b, b, Mybeam_23, -Mybeam_23, LS, LK, LA, LD, cS, cK, cA, cD, th_pP, th_pN, th_pcP, th_pcN, ResP, ResN, th_uP, th_uN, DP, DN)\n",
    "rotSpring2DModIKModel(4131, 13, 132, Ks_beam_23, b, b, Mybeam_23, -Mybeam_23, LS, LK, LA, LD, cS, cK, cA, cD, th_pP, th_pN, th_pcP, th_pcN, ResP, ResN, th_uP, th_uN, DP, DN)\n",
    "rotSpring2DModIKModel(4132, 23, 233, Ks_beam_23, b, b, Mybeam_23, -Mybeam_23, LS, LK, LA, LD, cS, cK, cA, cD, th_pP, th_pN, th_pcP, th_pcN, ResP, ResN, th_uP, th_uN, DP, DN)\n",
    "\n",
    "# create region for beam springs\n",
    "# region 2 -ele 4121 4122 4131 4132;\n"
   ]
  },
  {
   "cell_type": "code",
   "execution_count": 8,
   "metadata": {},
   "outputs": [],
   "source": [
    "# Define p-delta column spring: zero-stiffness elastic spring\t\n",
    "\t#Spring ID: \"5xya\" where 5 = leaning column spring, x = Pier #, y = Story #, a = location in story\n",
    "\t# \"a\" convention: 1 = bottom of story, 2 = top of story\n",
    "\t# rotLeaningCol ElemID ndR ndC \n",
    "\n",
    "# def rotLeaningCol(eleID, nodeR, nodeC):\n",
    "#     # Create a zero-stiffness rotational spring\n",
    "#     ops.uniaxialMaterial('Elastic', eleID, 1.0e-12)\n",
    "#     ops.element('zeroLength', eleID, nodeR, nodeC, '-mat', eleID, '-dir', 6)\n",
    "#     ops.equalDOF(nodeR, nodeC, 1, 2)\n",
    "\n",
    "# create region for frame column springs\n",
    "# command: region $regionID -ele $ele_1_ID $ele_2_ID...\n",
    "# region 1 -ele 3111 3211 3112 3212 3121 3221 3122 3222;\n",
    "\n",
    "rotLeaningCol(5312, 32, 326)\n",
    "rotLeaningCol(5321, 32, 327)\n",
    "rotLeaningCol(5322, 33, 336)"
   ]
  },
  {
   "cell_type": "markdown",
   "metadata": {},
   "source": [
    " Eigenvalue Analysis  "
   ]
  },
  {
   "cell_type": "code",
   "execution_count": 9,
   "metadata": {},
   "outputs": [
    {
     "name": "stdout",
     "output_type": "stream",
     "text": [
      "T1 = 0.8198074473990256 s\n",
      "T2 = 0.20812628532312813 s\n"
     ]
    },
    {
     "name": "stderr",
     "output_type": "stream",
     "text": [
      "ProfileSPDLinDirectSolver::solve() -  aii < 0 (i, aii): (9, 0)\n"
     ]
    }
   ],
   "source": [
    "# Eigenvalue Analysis\n",
    "pi = math.pi                        # Definition of pi\n",
    "nEigenI = 1                          # mode i = 1\n",
    "nEigenJ = 2                          # mode j = 2\n",
    "lambdaN = ops.eigen(nEigenJ)         # eigenvalue analysis for nEigenJ modes\n",
    "lambdaI = lambdaN[0]                # eigenvalue mode i = 1\n",
    "lambdaJ = lambdaN[nEigenJ - 1]      # eigenvalue mode j = 2\n",
    "w1 = math.sqrt(lambdaI)             # w1 (1st mode circular frequency)\n",
    "w2 = math.sqrt(lambdaJ)             # w2 (2nd mode circular frequency)\n",
    "T1 = 2.0 * pi / w1              # 1st mode period of the structure\n",
    "T2 = 2.0 * pi / w2              # 2nd mode period of the structure\n",
    "print(f\"T1 = {T1} s\")           # display the first mode period in the command window\n",
    "print(f\"T2 = {T2} s\")           # display the second mode period in the command window"
   ]
  },
  {
   "cell_type": "markdown",
   "metadata": {},
   "source": [
    "Gravity Loads & Gravity Analysis"
   ]
  },
  {
   "cell_type": "code",
   "execution_count": 10,
   "metadata": {},
   "outputs": [],
   "source": [
    "# apply gravity loads\n",
    "\t#command: pattern PatternType $PatternID TimeSeriesType\n",
    "ops.timeSeries('Constant', 1)\n",
    "ops.pattern('Plain', 101, 1)\n",
    "\n",
    "# point loads on leaning column nodes\n",
    "# command: load node Fx Fy Mz\n",
    "P_PD2 = -398.02       # Floor 2\n",
    "P_PD3 = -391.31       # Floor 3\n",
    "ops.load(32, 0.0, P_PD2, 0.0)    # Floor 2\n",
    "ops.load(33, 0.0, P_PD3, 0.0)    # Floor 3\n",
    "\n",
    "# point loads on frame column nodes\n",
    "P_F2 = 0.5 * (-1.0 * Floor2Weight - P_PD2)  # load on each frame node in Floor 2\n",
    "P_F3 = 0.5 * (-1.0 * Floor3Weight - P_PD3)  # load on each frame node in Floor 3\n",
    "\n",
    "# Floor 2 loads\n",
    "ops.load(12, 0.0, P_F2, 0.0)\n",
    "ops.load(22, 0.0, P_F2, 0.0)\n",
    "# Floor 3 loads\n",
    "ops.load(13, 0.0, P_F3, 0.0)\n",
    "ops.load(23, 0.0, P_F3, 0.0)"
   ]
  },
  {
   "cell_type": "markdown",
   "metadata": {},
   "source": [
    "Gravity-analysis: load-controlled static analysis"
   ]
  },
  {
   "cell_type": "code",
   "execution_count": 11,
   "metadata": {},
   "outputs": [],
   "source": [
    "Tol = 1.0e-6                # convergence tolerance for test\n",
    "ops.constraints('Plain')                # how it handles boundary conditions\n",
    "ops.numberer('RCM')             # renumber dof's to minimize band-width (optimization)\n",
    "ops.system('BandGeneral')               # how to store and solve the system of equations in the analysis (large model: try UmfPack)\n",
    "ops.test('NormDispIncr', Tol, 6)\n",
    "ops.algorithm('Newton')\n",
    "NstepGravity = 10\n",
    "DGravity = 1.0 / NstepGravity\n",
    "ops.integrator('LoadControl', DGravity)\n",
    "ops.analysis('Static')\n",
    "ops.analyze(NstepGravity)\n",
    "\n",
    "# maintain constant gravity loads and reset time to zero\n",
    "ops.loadConst('-time', 0.0)\n",
    "# print(\"Model Built\")"
   ]
  },
  {
   "cell_type": "code",
   "execution_count": 12,
   "metadata": {},
   "outputs": [],
   "source": [
    "# perform the analysis\n",
    "\n",
    "\n",
    "# data = np.zeros((int(DGravity*NstepGravity+1), 2))\n",
    "# for j in range(int(DGravity*NstepGravity)):\n",
    "#     ops.analyze(1)\n",
    "#     data[j+1,0] = ops.nodeDisp(12,1)\n",
    "#     data[j+1,1] = ops.eleResponse(111,'forces')[1]\n",
    "\n",
    "# plt.plot(data[:,0], data[:,1])\n",
    "# plt.xlabel('Horizontal Displacement')\n",
    "# plt.ylabel('Horizontal Load')\n",
    "# plt.show()"
   ]
  },
  {
   "cell_type": "code",
   "execution_count": 13,
   "metadata": {},
   "outputs": [],
   "source": [
    "# ops.eleResponse(111,'forces')"
   ]
  },
  {
   "cell_type": "markdown",
   "metadata": {},
   "source": [
    "Pushover Analysis"
   ]
  },
  {
   "cell_type": "code",
   "execution_count": 14,
   "metadata": {},
   "outputs": [],
   "source": [
    "# print(\"Running Pushover...\")\n",
    "\n",
    "lat2 = 16.255\n",
    "lat3 = 31.636\n",
    "\n",
    "ops.timeSeries('Linear', 2)\n",
    "ops.pattern('Plain', 200, 2)\n",
    "ops.load(12, lat2, 0.0, 0.0)\n",
    "ops.load(22, lat2, 0.0, 0.0)\n",
    "ops.load(13, lat3, 0.0, 0.0)\n",
    "ops.load(23, lat3, 0.0, 0.0)\n",
    "\n",
    "# ViewScale = 5\n",
    "# Note: Display functions are not available in openseespy\n",
    "IDctrlNode = 13\n",
    "IDctrlDOF = 1\n",
    "Dmax = 0.1 * HBuilding\n",
    "Dincr = 0.01\n",
    "# ops.constraints('Plain')\n",
    "# ops.constraints('Transformation')\n",
    "# ops.numberer('RCM')\n",
    "# ops.system('BandGeneral')\n",
    "# ops.test('NormUnbalance', 1.0e-6, 400)\n",
    "ops.test('NormUnbalance', 1.0e-6, 400)\n",
    "ops.algorithm('Newton')\n",
    "ops.reactions()\n",
    "ops.integrator('DisplacementControl', IDctrlNode, IDctrlDOF, Dincr)\n",
    "# ops.analysis('Static')\n",
    "Nsteps = int(Dmax / Dincr)\n",
    "# ok = ops.analyze(Nsteps)"
   ]
  },
  {
   "cell_type": "code",
   "execution_count": 15,
   "metadata": {},
   "outputs": [
    {
     "data": {
      "image/png": "[encoded data removed]",
      "text/plain": [
       "<Figure size 640x480 with 2 Axes>"
      ]
     },
     "metadata": {},
     "output_type": "display_data"
    },
    {
     "name": "stdout",
     "output_type": "stream",
     "text": [
      "Pushover complete\n"
     ]
    }
   ],
   "source": [
    "data = np.zeros((int(Nsteps+1), 3))\n",
    "\n",
    "for j in range(int(Nsteps)):\n",
    "    ops.analyze(1)\n",
    "    # data[j+1,0] = ops.nodeDisp(12,1)\n",
    "    data[j+1,0] = ops.nodeDisp(12,1)\n",
    "\n",
    "    # data[j+1,1] = ops.eleResponse(111,'forces')[3]\n",
    "    data[j+1,1] = -(ops.eleResponse(111,'forces')[0]+ ops.eleResponse(121,'forces')[0]+ ops.eleResponse(731,'forces')[0])\n",
    "    data[j+1,2] = ops.getLoadFactor(200)\n",
    "\n",
    "    # data[j+1,1] = \n",
    "\n",
    "fig, ax1 = plt.subplots()\n",
    "\n",
    "ax1.plot(data[:,0], data[:,1], color='k')\n",
    "ax2 = ax1.twinx()\n",
    "ax2.plot(data[:,0], data[:,2], color='red')\n",
    "# plt.se\n",
    "plt.xlabel('Horizontal Displacement')\n",
    "plt.ylabel('Horizontal Load')\n",
    "plt.show()\n",
    "\n",
    "print(\"Pushover complete\")"
   ]
  },
  {
   "cell_type": "code",
   "execution_count": 16,
   "metadata": {},
   "outputs": [
    {
     "data": {
      "text/plain": [
       "1.165151213386079"
      ]
     },
     "execution_count": 16,
     "metadata": {},
     "output_type": "execute_result"
    }
   ],
   "source": [
    "ops.getLoadFactor(200)"
   ]
  },
  {
   "cell_type": "code",
   "execution_count": null,
   "metadata": {},
   "outputs": [],
   "source": [
    "ops.eleNodes(111)"
   ]
  },
  {
   "cell_type": "code",
   "execution_count": null,
   "metadata": {},
   "outputs": [],
   "source": [
    "ops.eleResponse(111,'forces')[0], ops.eleResponse(121,'forces')[0], ops.eleResponse(731,'forces')[0]"
   ]
  },
  {
   "cell_type": "code",
   "execution_count": null,
   "metadata": {},
   "outputs": [],
   "source": [
    "ops.eleResponse(111,'forces')[0]+ ops.eleResponse(121,'forces')[0]+ ops.eleResponse(731,'forces')[0]"
   ]
  },
  {
   "cell_type": "code",
   "execution_count": null,
   "metadata": {},
   "outputs": [],
   "source": [
    "ops.nodeResponse(11,1,6), ops.nodeResponse(21,1,6), ops.nodeResponse(31,1,6)"
   ]
  },
  {
   "cell_type": "code",
   "execution_count": null,
   "metadata": {},
   "outputs": [],
   "source": [
    "ops.nodeResponse(117,1,6), ops.nodeResponse(217,1,6), ops.nodeResponse(31,1,6)"
   ]
  },
  {
   "cell_type": "code",
   "execution_count": null,
   "metadata": {},
   "outputs": [],
   "source": [
    "ops.eleResponse(3111,'forces')"
   ]
  }
 ],
 "metadata": {
  "kernelspec": {
   "display_name": "batch_active_39",
   "language": "python",
   "name": "python3"
  },
  "language_info": {
   "codemirror_mode": {
    "name": "ipython",
    "version": 3
   },
   "file_extension": ".py",
   "mimetype": "text/x-python",
   "name": "python",
   "nbconvert_exporter": "python",
   "pygments_lexer": "ipython3",
   "version": "3.9.19"
  }
 },
 "nbformat": 4,
 "nbformat_minor": 2
}
